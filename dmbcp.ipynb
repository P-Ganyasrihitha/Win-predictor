{
  "cells": [
    {
      "cell_type": "code",
      "execution_count": 3,
      "metadata": {
        "id": "0isgoVzK3zTc"
      },
      "outputs": [
        {
          "ename": "ModuleNotFoundError",
          "evalue": "No module named 'numpy'",
          "output_type": "error",
          "traceback": [
            "\u001b[1;31m---------------------------------------------------------------------------\u001b[0m",
            "\u001b[1;31mModuleNotFoundError\u001b[0m                       Traceback (most recent call last)",
            "Cell \u001b[1;32mIn[3], line 1\u001b[0m\n\u001b[1;32m----> 1\u001b[0m \u001b[39mimport\u001b[39;00m \u001b[39mnumpy\u001b[39;00m \u001b[39mas\u001b[39;00m \u001b[39mnp\u001b[39;00m\n\u001b[0;32m      2\u001b[0m \u001b[39mimport\u001b[39;00m \u001b[39mpandas\u001b[39;00m \u001b[39mas\u001b[39;00m \u001b[39mpd\u001b[39;00m\n",
            "\u001b[1;31mModuleNotFoundError\u001b[0m: No module named 'numpy'"
          ]
        }
      ],
      "source": [
        "import numpy as np\n",
        "import pandas as pd"
      ]
    },
    {
      "cell_type": "code",
      "execution_count": 4,
      "metadata": {},
      "outputs": [],
      "source": [
        "pip install numpy"
      ]
    },
    {
      "cell_type": "code",
      "execution_count": null,
      "metadata": {
        "id": "3D6daRLY30uJ"
      },
      "outputs": [],
      "source": [
        "match = pd.read_csv('matches.csv')\n",
        "delivery = pd.read_csv('deliveries.csv')"
      ]
    },
    {
      "cell_type": "code",
      "execution_count": null,
      "metadata": {
        "id": "nddtWUPA5XZ3"
      },
      "outputs": [],
      "source": [
        "match.head()"
      ]
    },
    {
      "cell_type": "code",
      "execution_count": null,
      "metadata": {
        "id": "stvPKKvv5XmU"
      },
      "outputs": [],
      "source": [
        "match.shape"
      ]
    },
    {
      "cell_type": "code",
      "execution_count": null,
      "metadata": {
        "id": "70i_US7S5Xof"
      },
      "outputs": [],
      "source": [
        "delivery.head()"
      ]
    },
    {
      "cell_type": "code",
      "execution_count": null,
      "metadata": {
        "id": "ry7ufNnt5rg8"
      },
      "outputs": [],
      "source": [
        "total_score_df = delivery.groupby(['match_id','inning']).sum()['total_runs'].reset_index()"
      ]
    },
    {
      "cell_type": "code",
      "execution_count": null,
      "metadata": {
        "id": "srMgLF0h5rjk"
      },
      "outputs": [],
      "source": [
        "\n",
        "total_score_df = total_score_df[total_score_df['inning'] == 1]"
      ]
    },
    {
      "cell_type": "code",
      "execution_count": null,
      "metadata": {
        "id": "YnnbwKKI5rl1"
      },
      "outputs": [],
      "source": [
        "total_score_df"
      ]
    },
    {
      "cell_type": "code",
      "execution_count": null,
      "metadata": {
        "id": "8SM-5XaQ6Geb"
      },
      "outputs": [],
      "source": [
        "match_df = match.merge(total_score_df[['match_id','total_runs']],left_on='id',right_on='match_id')"
      ]
    },
    {
      "cell_type": "code",
      "execution_count": null,
      "metadata": {
        "id": "gtBajWu86Gh1"
      },
      "outputs": [],
      "source": [
        "match_df"
      ]
    },
    {
      "cell_type": "code",
      "execution_count": null,
      "metadata": {
        "id": "Ii7KUjIJ5rpH"
      },
      "outputs": [],
      "source": [
        "match_df['team1'].unique()"
      ]
    },
    {
      "cell_type": "code",
      "execution_count": null,
      "metadata": {
        "id": "acK95j7N5Xq9"
      },
      "outputs": [],
      "source": [
        "teams = [\n",
        "    'Sunrisers Hyderabad',\n",
        "    'Mumbai Indians',\n",
        "    'Royal Challengers Bangalore',\n",
        "    'Kolkata Knight Riders',\n",
        "    'Kings XI Punjab',\n",
        "    'Chennai Super Kings',\n",
        "    'Rajasthan Royals',\n",
        "    'Delhi Capitals'\n",
        "]"
      ]
    },
    {
      "cell_type": "code",
      "execution_count": null,
      "metadata": {
        "id": "X9HILRr05XuY"
      },
      "outputs": [],
      "source": [
        "match_df['team1'] = match_df['team1'].str.replace('Delhi Daredevils','Delhi Capitals')\n",
        "match_df['team2'] = match_df['team2'].str.replace('Delhi Daredevils','Delhi Capitals')\n",
        "\n",
        "match_df['team1'] = match_df['team1'].str.replace('Deccan Chargers','Sunrisers Hyderabad')\n",
        "match_df['team2'] = match_df['team2'].str.replace('Deccan Chargers','Sunrisers Hyderabad')"
      ]
    },
    {
      "cell_type": "code",
      "execution_count": null,
      "metadata": {
        "id": "nfoknjkz6hMX"
      },
      "outputs": [],
      "source": [
        "match_df = match_df[match_df['team1'].isin(teams)]\n",
        "match_df = match_df[match_df['team2'].isin(teams)]"
      ]
    },
    {
      "cell_type": "code",
      "execution_count": null,
      "metadata": {
        "colab": {
          "base_uri": "https://localhost:8080/",
          "height": 165
        },
        "id": "_XmMN0LU6hO1",
        "outputId": "f01c4766-8966-43f0-9ac8-ae9c305db0a9"
      },
      "outputs": [],
      "source": [
        "match_df.shape"
      ]
    },
    {
      "cell_type": "code",
      "execution_count": null,
      "metadata": {
        "colab": {
          "base_uri": "https://localhost:8080/",
          "height": 165
        },
        "id": "MTeT33JO6hQ_",
        "outputId": "474d6c81-a7d3-4d21-f4de-7f1cf729c9cb"
      },
      "outputs": [],
      "source": [
        "match_df = match_df[match_df['dl_applied'] == 0]"
      ]
    },
    {
      "cell_type": "code",
      "execution_count": null,
      "metadata": {
        "id": "vIdiKWiL6hUU"
      },
      "outputs": [],
      "source": [
        "match_df = match_df[['match_id','city','winner','total_runs']]"
      ]
    },
    {
      "cell_type": "code",
      "execution_count": null,
      "metadata": {
        "id": "s9bARv3X6rXy"
      },
      "outputs": [],
      "source": [
        "delivery_df = match_df.merge(delivery,on='match_id')"
      ]
    },
    {
      "cell_type": "code",
      "execution_count": null,
      "metadata": {
        "id": "patBixPj6raK"
      },
      "outputs": [],
      "source": [
        "delivery_df = delivery_df[delivery_df['inning'] == 2]"
      ]
    },
    {
      "cell_type": "code",
      "execution_count": null,
      "metadata": {
        "colab": {
          "base_uri": "https://localhost:8080/",
          "height": 834
        },
        "id": "IMKuSsVv6rce",
        "outputId": "fc09ac22-a45b-4850-a4c2-91b65ee54c3f"
      },
      "outputs": [],
      "source": [
        "delivery_df"
      ]
    },
    {
      "cell_type": "code",
      "execution_count": null,
      "metadata": {
        "id": "I_7zWPnj7Lz6"
      },
      "outputs": [],
      "source": [
        "delivery_df['current_score'] = delivery_df.groupby('match_id').cumsum()['total_runs_y']"
      ]
    },
    {
      "cell_type": "code",
      "execution_count": null,
      "metadata": {
        "id": "cvB_HWAY7L2A"
      },
      "outputs": [],
      "source": [
        "delivery_df['runs_left'] = delivery_df['total_runs_x'] - delivery_df['current_score']"
      ]
    },
    {
      "cell_type": "code",
      "execution_count": null,
      "metadata": {
        "id": "BZmUl4qh7L4t"
      },
      "outputs": [],
      "source": [
        "delivery_df['balls_left'] = 126 - (delivery_df['over']*6 + delivery_df['ball'])"
      ]
    },
    {
      "cell_type": "code",
      "execution_count": null,
      "metadata": {
        "colab": {
          "base_uri": "https://localhost:8080/",
          "height": 834
        },
        "id": "qEEjEFdl7L6x",
        "outputId": "4b1c546c-a0cf-4815-d914-a8f13cf7f0a7"
      },
      "outputs": [],
      "source": [
        "delivery_df"
      ]
    },
    {
      "cell_type": "code",
      "execution_count": null,
      "metadata": {
        "colab": {
          "base_uri": "https://localhost:8080/",
          "height": 473
        },
        "id": "EzpE0REp7L86",
        "outputId": "07e462e5-77c6-4f73-db7e-51e95084b565"
      },
      "outputs": [],
      "source": [
        "delivery_df['player_dismissed'] = delivery_df['player_dismissed'].fillna(\"0\")\n",
        "delivery_df['player_dismissed'] = delivery_df['player_dismissed'].apply(lambda x:x if x == \"0\" else \"1\")\n",
        "delivery_df['player_dismissed'] = delivery_df['player_dismissed'].astype('int')\n",
        "wickets = delivery_df.groupby('match_id').cumsum()['player_dismissed'].values\n",
        "delivery_df['wickets'] = 10 - wickets\n",
        "delivery_df.head()"
      ]
    },
    {
      "cell_type": "code",
      "execution_count": null,
      "metadata": {
        "colab": {
          "base_uri": "https://localhost:8080/",
          "height": 473
        },
        "id": "CH0eWoe77MAd",
        "outputId": "7919952c-d202-4bde-b90f-5eba13493212"
      },
      "outputs": [],
      "source": [
        "delivery_df.head()"
      ]
    },
    {
      "cell_type": "code",
      "execution_count": null,
      "metadata": {
        "id": "dHwZ8Zyp7yBg"
      },
      "outputs": [],
      "source": [
        "# crr = runs/overs\n",
        "delivery_df['crr'] = (delivery_df['current_score']*6)/(120 - delivery_df['balls_left'])"
      ]
    },
    {
      "cell_type": "code",
      "execution_count": null,
      "metadata": {
        "id": "hTvAAr2Q7yE4"
      },
      "outputs": [],
      "source": [
        "delivery_df['rrr'] = (delivery_df['runs_left']*6)/delivery_df['balls_left']"
      ]
    },
    {
      "cell_type": "code",
      "execution_count": null,
      "metadata": {
        "id": "F9ZHsM_O7yKp"
      },
      "outputs": [],
      "source": [
        "def result(row):\n",
        "    return 1 if row['batting_team'] == row['winner'] else 0"
      ]
    },
    {
      "cell_type": "code",
      "execution_count": null,
      "metadata": {
        "id": "mK-UsxIi7yOB"
      },
      "outputs": [],
      "source": [
        "delivery_df['result'] = delivery_df.apply(result,axis=1)"
      ]
    },
    {
      "cell_type": "code",
      "execution_count": null,
      "metadata": {
        "id": "it99eS5K78Q5"
      },
      "outputs": [],
      "source": [
        "final_df = delivery_df[['batting_team','bowling_team','city','runs_left','balls_left','wickets','total_runs_x','crr','rrr','result']]"
      ]
    },
    {
      "cell_type": "code",
      "execution_count": null,
      "metadata": {
        "id": "TK4K2u0W78TA"
      },
      "outputs": [],
      "source": [
        "final_df = final_df.sample(final_df.shape[0])"
      ]
    },
    {
      "cell_type": "code",
      "execution_count": null,
      "metadata": {
        "colab": {
          "base_uri": "https://localhost:8080/",
          "height": 81
        },
        "id": "CKy8rjdb78VE",
        "outputId": "15d5b3c8-b49e-424e-f90b-b727164d6826"
      },
      "outputs": [],
      "source": [
        "final_df.sample()"
      ]
    },
    {
      "cell_type": "code",
      "execution_count": null,
      "metadata": {
        "id": "bQ8F89YV78XM"
      },
      "outputs": [],
      "source": [
        "final_df.dropna(inplace=True)"
      ]
    },
    {
      "cell_type": "code",
      "execution_count": null,
      "metadata": {
        "id": "fvVfxAxa78Zl"
      },
      "outputs": [],
      "source": [
        "final_df = final_df[final_df['balls_left'] != 0]"
      ]
    },
    {
      "cell_type": "code",
      "execution_count": null,
      "metadata": {
        "id": "GjuOBJ1278dR"
      },
      "outputs": [],
      "source": [
        "X = final_df.iloc[:,:-1]\n",
        "y = final_df.iloc[:,-1]\n",
        "from sklearn.model_selection import train_test_split\n",
        "X_train,X_test,y_train,y_test = train_test_split(X,y,test_size=0.2,random_state=1)"
      ]
    },
    {
      "cell_type": "code",
      "execution_count": null,
      "metadata": {
        "colab": {
          "base_uri": "https://localhost:8080/",
          "height": 423
        },
        "id": "z9fi7jkd8YR-",
        "outputId": "6ace45e3-a857-4f98-da72-1243896ef34f"
      },
      "outputs": [],
      "source": [
        "X_train"
      ]
    },
    {
      "cell_type": "code",
      "execution_count": null,
      "metadata": {
        "id": "U_tUV8gR8YUd"
      },
      "outputs": [],
      "source": [
        "from sklearn.compose import ColumnTransformer\n",
        "from sklearn.preprocessing import OneHotEncoder\n",
        "\n",
        "trf = ColumnTransformer([\n",
        "    ('trf',OneHotEncoder(sparse=False,drop='first'),['batting_team','bowling_team','city'])\n",
        "]\n",
        ",remainder='passthrough')"
      ]
    },
    {
      "cell_type": "code",
      "execution_count": null,
      "metadata": {
        "id": "I680fj8x8YXA"
      },
      "outputs": [],
      "source": [
        "from sklearn.linear_model import LogisticRegression\n",
        "from sklearn.ensemble import RandomForestClassifier\n",
        "from sklearn.pipeline import Pipeline"
      ]
    },
    {
      "cell_type": "code",
      "execution_count": null,
      "metadata": {
        "id": "kPo3jn0P8YZd"
      },
      "outputs": [],
      "source": [
        "pipe = Pipeline(steps=[\n",
        "    ('step1',trf),\n",
        "    ('step2',LogisticRegression(solver='liblinear'))\n",
        "])"
      ]
    },
    {
      "cell_type": "code",
      "execution_count": null,
      "metadata": {
        "colab": {
          "base_uri": "https://localhost:8080/",
          "height": 245
        },
        "id": "KrEX1Bfx8Yc3",
        "outputId": "03754310-ce52-4dae-f01a-09bad4f25d01"
      },
      "outputs": [],
      "source": [
        "pipe.fit(X_train,y_train)"
      ]
    },
    {
      "cell_type": "code",
      "execution_count": null,
      "metadata": {
        "id": "0ilDSqPX8qpP"
      },
      "outputs": [],
      "source": [
        "y_pred = pipe.predict(X_test)"
      ]
    },
    {
      "cell_type": "code",
      "execution_count": null,
      "metadata": {
        "colab": {
          "base_uri": "https://localhost:8080/"
        },
        "id": "kSe-GWi68qrm",
        "outputId": "1b386d42-e162-4354-c57b-a134065b0c8a"
      },
      "outputs": [],
      "source": [
        "from sklearn.metrics import accuracy_score\n",
        "accuracy_score(y_test,y_pred)"
      ]
    },
    {
      "cell_type": "code",
      "execution_count": null,
      "metadata": {
        "colab": {
          "base_uri": "https://localhost:8080/"
        },
        "id": "ssN6dOLW8quH",
        "outputId": "9edab7f0-4b24-4989-f919-610474d7090c"
      },
      "outputs": [],
      "source": [
        "pipe.predict_proba(X_test)[10]"
      ]
    },
    {
      "cell_type": "code",
      "execution_count": null,
      "metadata": {
        "id": "RqxZQYyV8qxX"
      },
      "outputs": [],
      "source": [
        "def match_summary(row):\n",
        "    print(\"Batting Team-\" + row['batting_team'] + \" | Bowling Team-\" + row['bowling_team'] + \" | Target- \" + str(row['total_runs_x']))\n",
        "    "
      ]
    },
    {
      "cell_type": "code",
      "execution_count": null,
      "metadata": {
        "id": "k-uTGQot86DE"
      },
      "outputs": [],
      "source": [
        "def match_progression(x_df,match_id,pipe):\n",
        "    match = x_df[x_df['match_id'] == match_id]\n",
        "    match = match[(match['ball'] == 6)]\n",
        "    temp_df = match[['batting_team','bowling_team','city','runs_left','balls_left','wickets','total_runs_x','crr','rrr']].dropna()\n",
        "    temp_df = temp_df[temp_df['balls_left'] != 0]\n",
        "    result = pipe.predict_proba(temp_df)\n",
        "    temp_df['lose'] = np.round(result.T[0]*100,1)\n",
        "    temp_df['win'] = np.round(result.T[1]*100,1)\n",
        "    temp_df['end_of_over'] = range(1,temp_df.shape[0]+1)\n",
        "    \n",
        "    target = temp_df['total_runs_x'].values[0]\n",
        "    runs = list(temp_df['runs_left'].values)\n",
        "    new_runs = runs[:]\n",
        "    runs.insert(0,target)\n",
        "    temp_df['runs_after_over'] = np.array(runs)[:-1] - np.array(new_runs)\n",
        "    wickets = list(temp_df['wickets'].values)\n",
        "    new_wickets = wickets[:]\n",
        "    new_wickets.insert(0,10)\n",
        "    wickets.append(0)\n",
        "    w = np.array(wickets)\n",
        "    nw = np.array(new_wickets)\n",
        "    temp_df['wickets_in_over'] = (nw - w)[0:temp_df.shape[0]]\n",
        "    \n",
        "    print(\"Target-\",target)\n",
        "    temp_df = temp_df[['end_of_over','runs_after_over','wickets_in_over','lose','win']]\n",
        "    return temp_df,target\n",
        "    "
      ]
    },
    {
      "cell_type": "code",
      "execution_count": null,
      "metadata": {
        "colab": {
          "base_uri": "https://localhost:8080/",
          "height": 662
        },
        "id": "QKHwrxYf86Fk",
        "outputId": "1f0ac7d8-3093-4403-8179-9bdfbc8060c8"
      },
      "outputs": [],
      "source": [
        "temp_df,target = match_progression(delivery_df,74,pipe)\n",
        "temp_df"
      ]
    },
    {
      "cell_type": "code",
      "execution_count": null,
      "metadata": {
        "colab": {
          "base_uri": "https://localhost:8080/",
          "height": 516
        },
        "id": "kuhIagzi86IF",
        "outputId": "35e36810-cc0c-45f7-8327-4c9302e9a312"
      },
      "outputs": [],
      "source": [
        "import matplotlib.pyplot as plt\n",
        "plt.figure(figsize=(18,8))\n",
        "plt.plot(temp_df['end_of_over'],temp_df['wickets_in_over'],color='yellow',linewidth=3)\n",
        "plt.plot(temp_df['end_of_over'],temp_df['win'],color='#00a65a',linewidth=4)\n",
        "plt.plot(temp_df['end_of_over'],temp_df['lose'],color='red',linewidth=4)\n",
        "plt.bar(temp_df['end_of_over'],temp_df['runs_after_over'])\n",
        "plt.title('Target-' + str(target))"
      ]
    },
    {
      "cell_type": "code",
      "execution_count": null,
      "metadata": {
        "colab": {
          "base_uri": "https://localhost:8080/"
        },
        "id": "hXWYDGUT86KC",
        "outputId": "2831250b-4c1b-4553-a39e-2edfa737b639"
      },
      "outputs": [],
      "source": [
        "teams"
      ]
    },
    {
      "cell_type": "code",
      "execution_count": null,
      "metadata": {
        "colab": {
          "base_uri": "https://localhost:8080/"
        },
        "id": "JvA_bKw086Nf",
        "outputId": "7a3b9f0a-9bdb-4aed-ae78-bef7cf3f9400"
      },
      "outputs": [],
      "source": [
        "delivery_df['city'].unique()"
      ]
    },
    {
      "cell_type": "code",
      "execution_count": null,
      "metadata": {
        "id": "WgmpATlD9pmF"
      },
      "outputs": [],
      "source": [
        "import pickle\n",
        "pickle.dump(pipe,open('pipe.pkl','wb'))"
      ]
    },
    {
      "cell_type": "code",
      "execution_count": null,
      "metadata": {
        "id": "H7GRuyvu9pqu"
      },
      "outputs": [],
      "source": []
    },
    {
      "cell_type": "code",
      "execution_count": null,
      "metadata": {
        "id": "KcyjRavw9puA"
      },
      "outputs": [],
      "source": []
    },
    {
      "cell_type": "code",
      "execution_count": null,
      "metadata": {
        "id": "kjwOtToE9p6o"
      },
      "outputs": [],
      "source": []
    },
    {
      "cell_type": "code",
      "execution_count": null,
      "metadata": {
        "id": "VSNZT6_g9p-I"
      },
      "outputs": [],
      "source": []
    }
  ],
  "metadata": {
    "colab": {
      "provenance": []
    },
    "kernelspec": {
      "display_name": "Python 3",
      "name": "python3"
    },
    "language_info": {
      "codemirror_mode": {
        "name": "ipython",
        "version": 3
      },
      "file_extension": ".py",
      "mimetype": "text/x-python",
      "name": "python",
      "nbconvert_exporter": "python",
      "pygments_lexer": "ipython3",
      "version": "3.10.10"
    }
  },
  "nbformat": 4,
  "nbformat_minor": 0
}
